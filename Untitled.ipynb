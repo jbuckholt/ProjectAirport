{
 "cells": [
  {
   "cell_type": "code",
   "execution_count": null,
   "metadata": {},
   "outputs": [],
   "source": [
    "#establish random sample of 1 to get data for testing\n",
    "randomIataNumberSample_df = cleanDeparture_df.sample(1)\n",
    "#pulls fields from sample to be used for easy comparison in following kernels\n",
    "randomIataNumber = randomIataNumberSample_df.iloc[0,3]\n",
    "randomDepartureScheduledTime = randomIataNumberSample_df.iloc[0,1]\n",
    "randomDepartureTerminalNumber = randomIataNumberSample_df.iloc[0,4]\n",
    "randomDepartureGateNumber = randomIataNumberSample_df.iloc[0,5]\n",
    "randomIataCode = randomIataNumberSample_df.iloc[0,8]\n",
    "#\n",
    "Arrival_url = f\"http://aviation-edge.com/v2/public/timetable?key={api_key}&&iataCode={randomIataCode}&type=arrival\"\n",
    "print(Arrival_url)\n",
    "randomIataNumberSample_df"
   ]
  }
 ],
 "metadata": {
  "kernelspec": {
   "display_name": "Python 3",
   "language": "python",
   "name": "python3"
  },
  "language_info": {
   "codemirror_mode": {
    "name": "ipython",
    "version": 3
   },
   "file_extension": ".py",
   "mimetype": "text/x-python",
   "name": "python",
   "nbconvert_exporter": "python",
   "pygments_lexer": "ipython3",
   "version": "3.7.6"
  }
 },
 "nbformat": 4,
 "nbformat_minor": 4
}
